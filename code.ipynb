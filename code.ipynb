{
 "cells": [
  {
   "cell_type": "markdown",
   "metadata": {},
   "source": [
    "# LangChain Rag Tutorial\n",
    "* https://python.langchain.com/docs/tutorials/rag/#:~:text=These%20applications%20use%20a%20technique%20known"
   ]
  },
  {
   "cell_type": "markdown",
   "metadata": {},
   "source": [
    "# Concepts\n",
    "* **Indexing**\n",
    "* **Retrieval and generation**\n",
    "\n",
    "## Indexing\n",
    "1. Load: use **Document Loaders** to load documents from various sources like CSV, JSON, PDF, etc.\n",
    "2. Split: **Text Spliters** split the documents into smaller chunks for indexing.\n",
    "3. Store: **VectorStore** and **Embeddings** store the indexed documents in a searchable format.\n",
    "\n",
    "## Retrieval and Generation\n",
    "4. Retrieve: **Retriever** finds relevant documents from the vector store based on user queries.\n",
    "5. Generate: **ChatModel**/**LLM** generates answers based on the retrieved documents."
   ]
  },
  {
   "cell_type": "code",
   "execution_count": null,
   "metadata": {},
   "outputs": [],
   "source": []
  }
 ],
 "metadata": {
  "kernelspec": {
   "display_name": "rag",
   "language": "python",
   "name": "python3"
  },
  "language_info": {
   "name": "python",
   "version": "3.11.9"
  }
 },
 "nbformat": 4,
 "nbformat_minor": 2
}
