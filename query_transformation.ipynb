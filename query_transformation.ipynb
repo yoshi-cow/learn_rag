{
 "cells": [
  {
   "cell_type": "markdown",
   "metadata": {},
   "source": [
    "# RAG関連手法の学習 - 1. Query Transformation\n",
    "* https://python.langchain.com/docs/concepts/#retrieval"
   ]
  },
  {
   "cell_type": "code",
   "execution_count": 6,
   "metadata": {},
   "outputs": [
    {
     "data": {
      "text/plain": [
       "True"
      ]
     },
     "execution_count": 6,
     "metadata": {},
     "output_type": "execute_result"
    }
   ],
   "source": [
    "from dotenv import load_dotenv\n",
    "import os\n",
    "from PIL import Image\n",
    "# 環境変数読み込み\n",
    "load_dotenv()\n",
    "\n",
    "# 画像表示関数\n",
    "def show_image(path):\n",
    "    im = Image.open(path)\n",
    "    return im"
   ]
  },
  {
   "cell_type": "markdown",
   "metadata": {},
   "source": [
    "## 1. Query Transformation (質問文の整形)\n",
    "* DBに検索かける前に、検索で情報が引っ掛かりやすくなるように、LLMを使って質問文をいい具合に整形する手法\n",
    "\n",
    "### 整形手法\n",
    "1. Multi-Query\n",
    "    * 様々な角度から質問文をカバーしたいとき利用。多様な視点から複数の関連する質問文を作る。\n",
    "    * https://python.langchain.com/docs/how_to/MultiQueryRetriever/\n",
    "    * https://www.youtube.com/watch?v=JChPi0CRnDY\n",
    "2. Decomposition\n",
    "    * 質問文をさらに詳細な質問文に分解する。\n",
    "    * https://www.youtube.com/watch?v=h0OPWlEOank\n",
    "3. Step-back\n",
    "    * 元の質問文からより一般的(抽象的)な質問文を生成し、その質問文による検索結果も追加情報として付与する。\n",
    "    * https://arxiv.org/pdf/2310.06117\n",
    "4. HyDE\n",
    "    * 元の質問文に対する仮の回答をLLMで作成し、その回答で検索を行うことで、より文脈に沿った情報をDBより抽出する。\n",
    "    * https://arxiv.org/abs/2212.10496\n"
   ]
  },
  {
   "cell_type": "markdown",
   "metadata": {},
   "source": [
    "### 1-1. Multi-Query\n",
    "* https://www.youtube.com/watch?v=JChPi0CRnDY"
   ]
  },
  {
   "cell_type": "code",
   "execution_count": 122,
   "metadata": {},
   "outputs": [],
   "source": [
    "### Data indexing and reservation for LLM-based multi-query\n",
    "\n",
    "# Load blog\n",
    "import bs4\n",
    "from langchain_community.document_loaders import WebBaseLoader\n",
    "\n",
    "blog_path = \"https://www.nri.com/jp/knowledge/blog/lst/2024/fis/kiuchi/1003_3\"\n",
    "loader = WebBaseLoader(\n",
    "    web_paths=(blog_path,),\n",
    "    # bs_kwargs=dict(\n",
    "    #     parse_only=bs4.SoupStrainer(\n",
    "    #         class_=(\"post-content\", \"post-title\", \"post-header\")\n",
    "    #     )\n",
    "    # ),\n",
    ")\n",
    "blog_docs = loader.load()\n",
    "\n",
    "# Split\n",
    "from langchain.text_splitter import RecursiveCharacterTextSplitter\n",
    "text_splitter = RecursiveCharacterTextSplitter(\n",
    "    chunk_size=300,\n",
    "    chunk_overlap=50,\n",
    "    separators=[\"\\n\\n\", \"。\", \"、\", \"\\n\", \"！\", \"？\", \"；\", \"：\", \"「\", \"」\", \"『\", \"』\", \"（\", \"）\", \"・\", \"…\", \"　\"],\n",
    ")\n",
    "\n",
    "splits = text_splitter.split_documents(blog_docs)\n",
    "\n",
    "# Index\n",
    "from langchain_openai import OpenAIEmbeddings\n",
    "from langchain_community.vectorstores import Chroma\n",
    "vectorestore = Chroma.from_documents(\n",
    "    documents=splits,\n",
    "    embedding=OpenAIEmbeddings()\n",
    ")\n",
    "\n",
    "retriever = vectorestore.as_retriever()"
   ]
  },
  {
   "cell_type": "code",
   "execution_count": 123,
   "metadata": {},
   "outputs": [
    {
     "name": "stdout",
     "output_type": "stream",
     "text": [
      "石破首相が所信表明へ：岸田路線の継承が鮮明に：日銀利上げへの慎重発言と円安の影響｜2024年|木内登英のGlobalEconomy&PolicyInsight|野村総合研究所(NRI)ナレッジ・インサイトソリューション・サービスサステナビリティニュース企業情報株主・投資家情報(IR)採用情報ナレッジ・インサイトトップ刊行物書籍コラムセミナー資料レポート用語解説\n",
      "--------------------\n",
      "刊行物書籍コラムセミナー資料レポート用語解説ソリューション・サービストップマネジメントコンサルティングシステムコンサルティング金融ITソリューション産業ITソリューションIT基盤サービスソリューション・製品・サービスお客様事例未来創発センターサステナビリティトップサステナビリティ経営マテリアリティへの取り組みライブラリニューストップニュースリリースお知らせイベント企業情報トップ社長メッセージ\n",
      "--------------------\n",
      "お知らせイベント企業情報トップ社長メッセージ企業理念経営ビジョンコーポレート・ガバナンス会社概要国内・海外拠点株主・投資家情報(IR)トップIRニュースIRイベント経営方針財務・業績IRライブラリ株式・格付情報個人投資家の皆さまへナレッジ・インサイトナレッジ・インサイトトップ刊行物書籍コラムセミナー資料レポート用語解説ソリューション・サービス\n",
      "--------------------\n",
      "ソリューション・サービスソリューション・サービストップマネジメントコンサルティングシステムコンサルティング金融ITソリューション産業ITソリューションIT基盤サービスソリューション・製品・サービスお客様事例未来創発センターサステナビリティサステナビリティトップサステナビリティ経営マテリアリティへの取り組みライブラリニュースニューストップニュースリリースお知らせイベント企業情報企業情報トップ社長メッセージ企業理念経営ビジョンコーポレート・ガバナンス会社概要国内・海外拠点\n",
      "--------------------\n",
      "株主・投資家情報(IR)株主・投資家情報(IR)トップIRニュースIRイベント経営方針財務・業績IRライブラリ株式・格付情報個人投資家の皆さまへ採用情報未来へのヒントが見つかるイノベーションマガジン未来を見通し、未来を創り出すNRIのプロフェッショナルたち多様な専門家によるトピックスをお届けする音声配信プログラムメディア関係者の皆様へビジネスパートナーの皆様へフリーワード検索タグ検索注目キーワード業種目的・課題専門家国・地域\n",
      "--------------------\n",
      "タグ検索注目キーワード業種目的・課題専門家国・地域#AI#ダイバーシティ#IoT#クラウド#イノベーション#デジタルマーケティング#働き方改革#グローバル#Fintech#ビッグデータ#シェアリングエコノミー#サイバーセキュリティ#データアナリティクス#UX/UIデザイン#地方創生#時事解説#マイナンバー#経営#DX#サステナビリティ#CX#新型コロナ\n",
      "--------------------\n",
      "#経営#DX#サステナビリティ#CX#新型コロナ#サーキュラーエコノミー#価値共創#カーボンニュートラル#ゼロトラスト#スマートシティ#水産・農林#住宅・建設・不動産#食料品#化学・素材#ヘルスケア・医療#社会保障#機械、機器#エネルギー・環境#運輸・物流・倉庫#情報・通信#メディア・出版#消費財・流通#サービス#証券#資産運用会社#生保・損保・共済#銀行・信託銀行\n",
      "--------------------\n",
      "#証券#資産運用会社#生保・損保・共済#銀行・信託銀行#その他金融#公共#電機・ハイテク#自動車#社会提言#リアルタイム経営#グローバルオペレーション#ビジネスモデル変革#コーポレートガバナンス#ミッション・ビジョン・バリュー構築#事業構造改革#HRM戦略策定#コスト構造改革#M&A・PMI#PMO・プロマネ強化#業務プロセス改善#営業・チャネル改革#マーケティング戦略策定#顧客関係強化\n",
      "--------------------\n",
      "#営業・チャネル改革#マーケティング戦略策定#顧客関係強化#サプライチェーン最適化#ビジネスプラットフォーム#規制・制度対応#法制度設計支援#IT投資最適化#BCP・リスク管理強化#情報セキュリティ確保#社内コミュニケーション強化#働き方改革#データアナリティクス#ITガバナンス強化#IT部門構造改革#情報戦略策定#経営情報可視化・活用#業務・システム統合#ITの高度活用#データセンター移転#IT人材強化#情報子会社成長\n",
      "--------------------\n",
      "#ITの高度活用#データセンター移転#IT人材強化#情報子会社成長#保全業務改革#デジタルワークプレイス#RPA#政策提言#桑津浩太郎#青嶋稔#木内登英#大崎貞和#井上哲也#神宮健#城田真琴#古明地正俊#長谷佳明#田中達雄#亀津敦#藤野直明#北俊一#森沢伊智郎#柏木亮二#楢崎卓馬#神田晴彦#樹世中#立松博史#小林敬幸\n",
      "--------------------\n",
      "#楢崎卓馬#神田晴彦#樹世中#立松博史#小林敬幸#金子久#浦壁厚郎#竹端克利#出口満#大道亮#幸田敏宏#鷺森崇#藤吉栄二#グローバル#アジア太平洋諸国#北米#欧州#アフリカ#中東#日本#中国#香港#台湾#韓国#インド#オーストラリア#タイ#フィリピン#インドネシア#シンガポール#アメリカ#ベトナム#ドイツ\n",
      "--------------------\n",
      "#インドネシア#シンガポール#アメリカ#ベトナム#ドイツJPNENGCHNNRIの海外拠点一覧NRIトップナレッジ・インサイトコラムコラム一覧石破首相が所信表明へ：岸田路線の継承が鮮明に：日銀利上げへの慎重発言と円安の影響コラム木内登英のGlobalEconomy&PolicyInsight石破首相が所信表明へ：岸田路線の継承が鮮明に：日銀利上げへの慎重発言と円安の影響#木内登英\n",
      "--------------------\n",
      "#木内登英2024/10/03石破政権の経済政策は岸田路線の継承と脱アベノミクスの組み合わせ石破首相は、4日に所信表明演説に臨む。その原案がメディア各社の報道によって明らかになってきた。石破氏は長らくアベノミクスと距離を置く発言をしてきており、脱アベノミクスが経済政策の基調と考えられる。他方で、自民党総裁に選出された直後には、岸田政権の経済政策の路線を引き継ぐと明言した。石破政権の経済政策は、岸田路線の継承と脱アベノミクスの組み合わせと理解できる。\n",
      "--------------------\n",
      "しかしながら、首相就任直後には、日本銀行の政策金利引き上げに慎重な発言をしており、脱アベノミクス色はやや後退した印象がある。他方で、所信表明演説では岸田路線の継承を鮮明にする方向だ。とりあえず総選挙は、脱アベノミクスではなく岸田路線継承を前面に掲げて戦うのだろう。\n",
      "--------------------\n",
      "岸田前政権の「構造的賃上げ」の継承が重要石破首相は所信表明演説で、政策全体の方針としては、総裁選を通じて示してきたように、「ルール」「日本」「国民」「地方」「若者・女性の機会」の５つを守り、日本の未来を創り、未来を守ると主張する。そのうえで、経済政策では、１）物価高の影響を受ける低所得者世帯への支援、２）新たな地方創生施策を展開、３）中堅・中小企業の賃上げ環境整備、４）成長力に資する国内投資促進、５）石川県能登半島など自然災害からの復旧・復興、を挙げる見通しだ。\n",
      "--------------------\n",
      "岸田前政権の経済政策は、その後半に定額給付金など、ややバラマキ色が目立ったが、石破首相は、物価高対策で低所得者世帯への支援を強調している。広範囲な世帯を対象にする支援ではなく、物価高の打撃が特に大きい低所得者世帯に絞った支援策となるのであれば、それは有効な施策であり、評価できる。石破首相は、「賃上げと投資がけん引する成長型経済」の実現を掲げる予定であり、この点からも、岸田前政権の賃上げを継承する。最低賃金の全国平均1,500円を達成する時期の目標を2030年代半ばから2020年代に前倒しする方針とされる。\n",
      "--------------------\n",
      "ただし、将来の適正な最低賃金の水準は、その時点での物価水準によることから、予め最低賃金の適正水準を示すことは難しいのではないか。それよりも、石破政権には、岸田前政権が掲げた「構造的賃上げ」という考えをより重視して欲しい。これは、（実質）賃金が上がっていくような経済環境を目指し、労働生産性向上に取り組むものだ。それを実現する手段のうち最も重要なのが「三位一体の労働市場改革」だ。所信表明演説にも、政府として個人のリスキリング（学びなおし）など人への投資を盛り込む方向とされ、「構造的賃上げ」の考えも岸田前政権から一定程度継承されることが予想される。\n",
      "--------------------\n",
      "岸田前政権の成長戦略に石破政権の地方創生の独自色が加わるそれ以外にも、岸田前政権が進めてきた成長戦略の多くを石破政権が引き継ぐ考えであり、これは望ましいことだ。それは、「資産運用立国実現プラン」、「労働市場改革」、「デジタル田園都市国家構想」、「少子化対策」、「外国人活用」などである。これに、「地方創生」という石破色を加えたものが、石破政権の成長戦略のパッケージとなるだろう。演説では、地方創生の取り組みを支援するため、地方創生の交付金を当初予算ベースで倍増を目指す、と表明する見通しだ。さらに、「地方創生2.0として再起動させる」と表記されるという。\n",
      "--------------------\n",
      "石破首相の地方創生策には、若い女性にとって魅力ある地方を作り、若い女性を地方にとどめる、あるいは呼び寄せることで、地方の出生率向上につなげる、といった、「地方創生」、「少子化対策」、「東京一極集中是正」の3つの成長戦略のパッケージという意欲的な考えがあると思われる。是非、独自の地方創生の成長戦略を進めていって欲しい。\n",
      "--------------------\n",
      "日銀追加利上げへの慎重発言から円安が進む3日の為替市場では、一時1ドル147円台まで円安が進み、それを受けて、日経平均株価が前日比1,000円を超える局面も見られた。そのきっかけとなったのは、2日に石破首相は日銀植田総裁と会談を行い、会談後に「政府としてあれこれ指図をする立場にはない」としつつ、「個人的にはそのような（追加利上げを行うような）環境にあるとは思っていない。追加の利上げをできる状況ではないと思っている」と記者団に語ったことがきっかけだ。日本銀行の独立性は尊重する姿勢を維持しながらも、日本銀行の政策に対して直接要望を述べた形である。\n",
      "--------------------\n",
      "この発言を受けて、日本銀行が金融政策の正常化を進める方針を撤回するとは考えにくいが、当面、追加利上げのハードルは上がったと言えるのではないか。金融市場では追加利上げの時期が後ずれするとの観測が強まり、円安が進んだ。ただし、長期金利は大きく動いていないことから、債券市場では政策金利が引き上げられていくとの認識は維持されている。\n",
      "--------------------\n",
      "選挙を睨んだ戦略かこうした石破首相の発言は、金融緩和の長期化がもたらす弊害を指摘する従来の見解からはやや修正された印象もあるが、方針が大きく修正されたのかどうかについては、まだ慎重に見極める必要があるだろう。現時点での発言は、目先の総選挙を強く意識したものである可能性が高いとみられるからだ。まずは、選挙に勝ち、政権基盤を固めることが、石破政権の最優先課題なのだろう。\n",
      "--------------------\n",
      "石破首相が自民党総裁選に勝利した直後に利上げ観測から円高が進み、株価が大きく下落したことが新政権へダメージになるとの危機感が、こうした発言の背景にある可能性が考えられる。また、目先に迫る衆院選挙に向けた短期集中型の政策アピール、という側面もあるかもしれない。ただし、こうした発言を受けて再び円安が進むと、物価上昇圧力も高まり、国民生活を圧迫しかねない。この点から、石破政権が追加利上げに慎重な姿勢を強調することが、果たして選挙に有利に働くのかどうかについては不明確だ。そして、石破政権の基本的な政策スタンスは、選挙を終えてからでないと明確には読めないと考えられる。\n",
      "--------------------\n",
      "執筆者情報木内登英エグゼクティブ・エコノミスト新着コンテンツ2024/10/03石破首相と植田日銀総裁の初会談木内登英のGlobalEconomy&PolicyInsight2024/10/03イランがイスラエルに報復攻撃：報復の応酬にエスカレートするか木内登英のGlobalEconomy&PolicyInsight2024/10/02赤沢・新経済再生担当相が日銀の利上げに慎重姿勢木内登英のGlobalEconomy&PolicyInsight\n",
      "--------------------\n",
      "もっと見る前のページに戻るコラムすべてを表示カテゴリから探す\n",
      "--------------------\n",
      "NRI経営コンサルタントの視点木内登英のGlobalEconomy&PolicyInsight大崎貞和のPointofグローバル金融市場井上哲也のReviewonCentralBanking神宮健のFocuson中国金融経済柏木亮二のDXBookReview竹端克利のInsight&Backcastingデータで読み解く金融ビジネスの潮流中国のデジタル経済とチャイナ・イノベーションのトレンド藤野直明の視点水谷禎志の視点DX時代のシステム導入最前線データの見方・使い方NRIDigitalConsultingEdge\n",
      "--------------------\n",
      "データの見方・使い方NRIDigitalConsultingEdgeテクニカルエンジニアの視点\n",
      "--------------------\n",
      "バックナンバーから探す2024年2023年2022年2021年2020年2019年2018年2017年2016年2015年2014年2013年FollowUsナレッジ・インサイト刊行物書籍コラムセミナー資料レポート用語解説ソリューション・サービスマネジメントコンサルティングシステムコンサルティング金融ITソリューション産業ITソリューションIT基盤サービスソリューション・製品・サービスお客様事例未来創発センターサステナビリティ\n",
      "--------------------\n",
      "サステナビリティサステナビリティ経営マテリアリティへの取り組みライブラリニュースニュースリリースお知らせイベント企業情報社長メッセージ企業理念経営ビジョンコーポレート・ガバナンス会社概要国内・海外拠点株主・投資家情報（IR）IRニュースIRイベント経営方針財務・業績IRライブラリ株式・格付情報個人投資家の皆さまへ採用情報メディア関係者の皆様へビジネスパートナーの皆様へNRIJOURNALNRIPeopleNRIVoice\n",
      "--------------------\n",
      "NRIJOURNALNRIPeopleNRIVoiceサイトマップ免責条項サイト利用規定個人情報保護方針個人情報の取扱いについて情報セキュリティ対策についての宣言文お問い合わせアクセスマップCopyright(c)NomuraResearchInstitute,Ltd.Allrightsreserved.\n",
      "--------------------\n"
     ]
    }
   ],
   "source": [
    "# 記事のチャンク結果\n",
    "for content in splits:\n",
    "    text = content.page_content\n",
    "    print(text.replace(\" \", \"\").replace(\"\\n\", \"\"))\n",
    "    print(\"--------------------\")"
   ]
  },
  {
   "cell_type": "code",
   "execution_count": 124,
   "metadata": {},
   "outputs": [],
   "source": [
    "### 追加質問のprompt\n",
    "from langchain.prompts import ChatPromptTemplate\n",
    "\n",
    "# Multi-query prompt\n",
    "# promptに複数の質問文を生成するように指示する\n",
    "template = \"\"\"You are an AI language model assistant. Your task is to generate five different versions of the given user question\n",
    " to retrieve the relevant documents from a vector database. By generating multiple perspectives on the user question, your goal\n",
    " is to help the user overcome some of the limitations of the distance-based similarity search.\n",
    " Question is  wrriten in Japanese. So answer in Japanese.\n",
    " Provide these alternative questions separated by newlines. Original question: {question}\"\"\"\n",
    "\n",
    "prompt_perspectives = ChatPromptTemplate.from_template(template)\n",
    "\n",
    "from langchain_core.output_parsers import StrOutputParser\n",
    "from langchain_openai import ChatOpenAI\n",
    "\n",
    "generate_queries = (\n",
    "    prompt_perspectives\n",
    "    | ChatOpenAI(temperature=0)\n",
    "    | StrOutputParser()\n",
    "    | (lambda x: x.split(\"\\n\"))\n",
    ")"
   ]
  },
  {
   "cell_type": "code",
   "execution_count": 125,
   "metadata": {},
   "outputs": [
    {
     "name": "stdout",
     "output_type": "stream",
     "text": [
      "元の質問: 利上に対する総理の考えは？\n",
      "\n",
      "生成された追加質問文:\n",
      "1. 1. 総理の見解は、利上に対してどうでしょうか？\n",
      "2. 2. 利上に関する総理の見解は何ですか？\n",
      "3. 3. 総理は利上についてどのように考えていますか？\n",
      "4. 4. 利上に関する総理の意見を教えてください。\n",
      "5. 5. 総理は利上についてどんな考えを持っていますか？\n"
     ]
    }
   ],
   "source": [
    "# multi-queryによる追加質問例\n",
    "question = \"利上に対する総理の考えは？\"\n",
    "generated_queries = generate_queries.invoke(question)\n",
    "\n",
    "print(f\"元の質問: {question}\\n\")\n",
    "print(\"生成された追加質問文:\")\n",
    "for x in range(len(generated_queries)):\n",
    "    print(f\"{str(x+1)}. {generated_queries[x]}\")\n"
   ]
  },
  {
   "cell_type": "code",
   "execution_count": 126,
   "metadata": {},
   "outputs": [
    {
     "name": "stdout",
     "output_type": "stream",
     "text": [
      "4\n"
     ]
    }
   ],
   "source": [
    "### 質問の生成と回答\n",
    "\n",
    "from langchain.load import dumps, loads\n",
    "# dumpでlangchainの型をシリアライズして、loadsでそれを復元する\n",
    "\n",
    "def get_unique_union(documents: list[list]):\n",
    "    \"\"\" Unique union of retrieval docs \"\"\"\n",
    "    # flatted list of lists, and convert each Document to string\n",
    "    flattened_docs = [dumps(doc) for sublist in documents for doc in sublist]\n",
    "    # 外側loop: for sublist in documents、内側loop: for doc in sublistの2重loopを一つにしたもの\n",
    "\n",
    "    # Get unique documents\n",
    "    unique_docs = list(set(flattened_docs))\n",
    "\n",
    "    return [loads(doc) for doc in unique_docs]\n",
    "\n",
    "\n",
    "# Retrieve\n",
    "retrieval_chain = generate_queries | retriever.map() | get_unique_union\n",
    "docs = retrieval_chain.invoke(question)\n",
    "print(len(docs))"
   ]
  },
  {
   "cell_type": "code",
   "execution_count": 131,
   "metadata": {},
   "outputs": [
    {
     "name": "stdout",
     "output_type": "stream",
     "text": [
      "-vector storeからの検索結果: -\n",
      "\n",
      "石破首相が自民党総裁選に勝利した直後に利上げ観測から円高が進み、株価が大きく下落したことが新政権へダメージになるとの危機感が、こうした発言の背景にある可能性が考えられる。また、目先に迫る衆院選挙に向けた短期集中型の政策アピール、という側面もあるかもしれない。ただし、こうした発言を受けて再び円安が進むと、物価上昇圧力も高まり、国民生活を圧迫しかねない。この点から、石破政権が追加利上げに慎重な姿勢を強調することが、果たして選挙に有利に働くのかどうかについては不明確だ。そして、石破政権の基本的な政策スタンスは、選挙を終えてからでないと明確には読めないと考えられる。\n",
      "\n",
      "。年内に利上げするのは政治的時間が短い上に国民からの理解を得るのも困難であるとし、想定している12月会合での追加利上げの確度はやや低下したのではないかと述べた。\n",
      "\n",
      "岸田前政権の「構造的賃上げ」の継承が重要石破首相は所信表明演説で、政策全体の方針としては、総裁選を通じて示してきたように、「ルール」「日本」「国民」「地方」「若者・女性の機会」の５つを守り、日本の未来を創り、未来を守ると主張する。そのうえで、経済政策では、１）物価高の影響を受ける低所得者世帯への支援、２）新たな地方創生施策を展開、３）中堅・中小企業の賃上げ環境整備、４）成長力に資する国内投資促進、５）石川県能登半島など自然災害からの復旧・復興、を挙げる見通しだ。\n",
      "\n",
      "選挙を睨んだ戦略かこうした石破首相の発言は、金融緩和の長期化がもたらす弊害を指摘する従来の見解からはやや修正された印象もあるが、方針が大きく修正されたのかどうかについては、まだ慎重に見極める必要があるだろう。現時点での発言は、目先の総選挙を強く意識したものである可能性が高いとみられるからだ。まずは、選挙に勝ち、政権基盤を固めることが、石破政権の最優先課題なのだろう。\n",
      "\n"
     ]
    }
   ],
   "source": [
    "# vectore storeからの検索結果\n",
    "print(\"-vector storeからの検索結果: -\\n\")\n",
    "for doc in docs:\n",
    "    print(doc.page_content.replace(\" \", \"\").replace(\"\\n\", \"\"))\n",
    "    print()"
   ]
  },
  {
   "cell_type": "code",
   "execution_count": 132,
   "metadata": {},
   "outputs": [],
   "source": [
    "### Q&A\n",
    "\n",
    "from operator import itemgetter\n",
    "from langchain_openai import ChatOpenAI\n",
    "from langchain_core.runnables import RunnablePassthrough\n",
    "\n",
    "# RAG\n",
    "template = \"\"\"\n",
    "As a economist, answer the follwoing question in Japanease based on this context. context and Question are written in Japanese.:\n",
    "\n",
    "{context}\n",
    "\n",
    "Question: {question}\n",
    "\"\"\"\n",
    "\n",
    "prompt = ChatPromptTemplate.from_template(template)\n",
    "\n",
    "llm = ChatOpenAI(temperature=0)\n",
    "\n",
    "final_rag_chain = (\n",
    "    {\"context\": retrieval_chain,\n",
    "     \"question\": itemgetter(\"question\")}\n",
    "    | prompt\n",
    "    | llm\n",
    "    | StrOutputParser()\n",
    ")\n",
    "\n",
    "final_ans = final_rag_chain.invoke({\"question\": question})"
   ]
  },
  {
   "cell_type": "code",
   "execution_count": 133,
   "metadata": {},
   "outputs": [
    {
     "name": "stdout",
     "output_type": "stream",
     "text": [
      "利上に対する総理の考えは？ :\n",
      "\n",
      "総理の考えは、利上げに慎重な姿勢を示しており、政治的な要素や国民生活への影響を考慮していると言えます。\n",
      "選挙を意識した発言や金融緩和の弊害を指摘する見解から方針が修正された可能性もあるが、現時点では慎重に見極める必要があるとされています。\n"
     ]
    }
   ],
   "source": [
    "# Q&A結果確認\n",
    "def print_jp(response):\n",
    "    sentence = \"\"\n",
    "    for r in response:\n",
    "        sentence += r\n",
    "        if r == \"。\":\n",
    "            print(sentence)\n",
    "            sentence = \"\"\n",
    "\n",
    "print(question,':\\n')\n",
    "print_jp(final_ans)"
   ]
  },
  {
   "cell_type": "code",
   "execution_count": null,
   "metadata": {},
   "outputs": [],
   "source": []
  },
  {
   "cell_type": "markdown",
   "metadata": {},
   "source": [
    "### 1-2. Decomposition\n",
    "* https://www.youtube.com/watch?v=h0OPWlEOank"
   ]
  },
  {
   "cell_type": "code",
   "execution_count": 134,
   "metadata": {},
   "outputs": [],
   "source": [
    "from langchain.prompts import ChatPromptTemplate\n",
    "\n",
    "# Decomposition prompt\n",
    "template = \"\"\"You are a helpful assistant that generates multiple sub-questions related to an input question.\n",
    " The goal is to break dwon the input into a set of sub-problems / sub-questions that can be answers in isolation.\n",
    " question is written in Japanese. So answer in Japanese.\n",
    " Generate multiple search queries related to: {question}\n",
    " Output (3 queries):\"\"\"\n",
    "\n",
    "prompt_decomposition = ChatPromptTemplate.from_template(template)"
   ]
  },
  {
   "cell_type": "code",
   "execution_count": 135,
   "metadata": {},
   "outputs": [],
   "source": [
    "from langchain_openai import ChatOpenAI\n",
    "from langchain_core.output_parsers import StrOutputParser\n",
    "\n",
    "# LLM\n",
    "llm = ChatOpenAI(temperature=0)\n",
    "\n",
    "# Chain\n",
    "generate_queries_decomposition = (\n",
    "    prompt_decomposition\n",
    "    | llm\n",
    "    | StrOutputParser()\n",
    "    | (lambda x: x.split(\"\\n\"))\n",
    "    )\n",
    "\n",
    "# Run-追加質問の生成\n",
    "question = \"利上に対する総理の考えは？\"\n",
    "questions = generate_queries_decomposition.invoke({\"question\": question})"
   ]
  },
  {
   "cell_type": "code",
   "execution_count": 136,
   "metadata": {},
   "outputs": [
    {
     "name": "stdout",
     "output_type": "stream",
     "text": [
      "元のquestion: 利上に対する総理の考えは？\n",
      "\n",
      "生成されたquestions:\n"
     ]
    },
    {
     "data": {
      "text/plain": [
       "['1. 利上に対する総理の具体的な政策は何か？',\n",
       " '2. 総理が利上に対して取り組む予定の施策は何か？',\n",
       " '3. 利上に関する総理の過去の発言や行動はどのようなものがあるか？']"
      ]
     },
     "execution_count": 136,
     "metadata": {},
     "output_type": "execute_result"
    }
   ],
   "source": [
    "print(f\"元のquestion: {question}\\n\")\n",
    "print(\"生成されたquestions:\")\n",
    "questions"
   ]
  },
  {
   "cell_type": "markdown",
   "metadata": {},
   "source": [
    "#### * Answer recursively\n"
   ]
  },
  {
   "cell_type": "code",
   "execution_count": 174,
   "metadata": {},
   "outputs": [
    {
     "data": {
      "image/png": "[encoded data removed]",
      "text/plain": [
       "<PIL.PngImagePlugin.PngImageFile image mode=RGBA size=629x209>"
      ]
     },
     "execution_count": 174,
     "metadata": {},
     "output_type": "execute_result"
    }
   ],
   "source": [
    "im = show_image(\"./data/decomposition.png\")\n",
    "im"
   ]
  },
  {
   "cell_type": "code",
   "execution_count": 137,
   "metadata": {},
   "outputs": [],
   "source": [
    "# Prompt\n",
    "template = \"\"\"Here is the question you need to answer. Those questions are written in Japanese:\n",
    "\\n --- \\n {question} \\n --- \\n\n",
    "Here is any available background question + answer pairs:\n",
    "\\n --- \\n {q_a_pairs} \\n --- \\n\n",
    "Here is additional context relevant to the question:\n",
    "\\n --- \\n {context} \\n --- \\n\n",
    "Use the above context and any background question + answer pairs to answer the question in Japanease: \\n {question}\n",
    "\"\"\"\n",
    "\n",
    "decomposition_prompt = ChatPromptTemplate.from_template(template)"
   ]
  },
  {
   "cell_type": "code",
   "execution_count": 140,
   "metadata": {},
   "outputs": [
    {
     "name": "stdout",
     "output_type": "stream",
     "text": [
      "Question: 1. 利上に対する総理の具体的な政策は何か？\n",
      "Answer: 石破首相の利上に対する具体的な政策は、主に以下の点に焦点を当てています：\n",
      "\n",
      "1. **物価高の影響を受ける低所得者世帯への支援**：物価高の影響が特に大きい低所得者世帯に対して、支援策を強化することを重視しています。\n",
      "\n",
      "2. **賃上げ環境の整備**：中堅・中小企業の賃上げを促進するための環境整備を行い、構造的賃上げを継承する方針です。\n",
      "\n",
      "3. **国内投資の促進**：成長力を高めるために、国内投資を促進する施策を展開することが挙げられています。\n",
      "\n",
      "これらの政策は、物価高や経済成長に対する対応策として位置づけられています。 \n",
      "\n",
      "\n",
      "Question: 2. 総理が利上に対して取り組む予定の施策は何か？\n",
      "Answer: 総理が利上に対して取り組む予定の施策は、以下のような点に焦点を当てています：\n",
      "\n",
      "1. **物価高の影響を受ける低所得者世帯への支援**：物価高の影響が特に大きい低所得者世帯に対して、支援策を強化することを重視しています。\n",
      "\n",
      "2. **賃上げ環境の整備**：中堅・中小企業の賃上げを促進するための環境整備を行い、構造的賃上げを継承する方針です。\n",
      "\n",
      "3. **国内投資の促進**：成長力を高めるために、国内投資を促進する施策を展開することが挙げられています。\n",
      "\n",
      "これらの施策は、物価高や経済成長に対する対応策として位置づけられています。また、総理は利上げに対して慎重な姿勢を示しており、年内の利上げ観測が後退していることも影響しています。政治的な時間が限られている中で、国民からの理解を得ることが難しいため、慎重に進める必要があるとされています。 \n",
      "\n",
      "\n",
      "Question: 3. 利上に関する総理の過去の発言や行動はどのようなものがあるか？\n",
      "Answer: 総理の利上に関する過去の発言や行動は、以下のような点が挙げられます。\n",
      "\n",
      "1. **慎重な発言**：総理就任直後から、日本銀行の政策金利引き上げに対して慎重な姿勢を示しており、利上げに関する発言は控えめでした。この姿勢は、金融緩和の長期化による影響を考慮したものであると考えられます。\n",
      "\n",
      "2. **岸田路線の継承**：所信表明演説では、岸田路線の継承を明確にし、利上げに対する慎重なアプローチを強調しました。これは、選挙を意識した戦略の一環とも見られています。\n",
      "\n",
      "3. **経済成長と物価高への対応**：物価高の影響を受ける低所得者世帯への支援や、賃上げ環境の整備、国内投資の促進といった政策を通じて、利上げに対する影響を緩和しようとする姿勢が見られます。\n",
      "\n",
      "4. **選挙を意識した発言**：総理の発言は、目先の総選挙を強く意識したものである可能性が高く、政権基盤を固めることが最優先課題とされています。\n",
      "\n",
      "これらの発言や行動は、利上げに対する総理の慎重な姿勢を反映しており、経済状況や国民の理解を得ることを重視していることが伺えます。 \n",
      "\n",
      "\n"
     ]
    }
   ],
   "source": [
    "from operator import itemgetter\n",
    "from langchain_core.output_parsers import StrOutputParser\n",
    "\n",
    "def format_qa_pair(question, answer):\n",
    "    \"\"\" Format Q and A pair \"\"\"\n",
    "    formatted_string = \"\"\n",
    "    formatted_string += f\"Question: {question}\\nAnswer: {answer}\\n\\n\"\n",
    "    return formatted_string.strip()\n",
    "\n",
    "# LLM\n",
    "llm = ChatOpenAI(model_name=\"gpt-4o-mini\", temperature=0)\n",
    "\n",
    "q_a_pairs = \"\"\n",
    "for q in questions:\n",
    "\n",
    "    rag_chain = (\n",
    "        {\"context\": itemgetter(\"question\") | retriever,\n",
    "         \"question\": itemgetter(\"question\"),\n",
    "         \"q_a_pairs\": itemgetter(\"q_a_pairs\")}\n",
    "    | decomposition_prompt\n",
    "    | llm\n",
    "    | StrOutputParser()\n",
    "    )\n",
    "\n",
    "    answer = rag_chain.invoke({\"question\": q, \"q_a_pairs\": q_a_pairs})\n",
    "    q_a_pair = format_qa_pair(q, answer)\n",
    "    print(q_a_pair, '\\n\\n')\n",
    "    q_a_pairs += q_a_pair + \"\\n\\n\" + q_a_pair\n"
   ]
  },
  {
   "cell_type": "code",
   "execution_count": 141,
   "metadata": {},
   "outputs": [
    {
     "name": "stdout",
     "output_type": "stream",
     "text": [
      "元の質問: 利上に対する総理の考えは？\n",
      "\n",
      "総理の利上に関する過去の発言や行動は、以下のような点が挙げられます。\n",
      "1.**慎重な発言**：総理就任直後から、日本銀行の政策金利引き上げに対して慎重な姿勢を示しており、利上げに関する発言は控えめでした。\n",
      "この姿勢は、金融緩和の長期化による影響を考慮したものであると考えられます。\n",
      "2.**岸田路線の継承**：所信表明演説では、岸田路線の継承を明確にし、利上げに対する慎重なアプローチを強調しました。\n",
      "これは、選挙を意識した戦略の一環とも見られています。\n",
      "3.**経済成長と物価高への対応**：物価高の影響を受ける低所得者世帯への支援や、賃上げ環境の整備、国内投資の促進といった政策を通じて、利上げに対する影響を緩和しようとする姿勢が見られます。\n",
      "4.**選挙を意識した発言**：総理の発言は、目先の総選挙を強く意識したものである可能性が高く、政権基盤を固めることが最優先課題とされています。\n",
      "これらの発言や行動は、利上げに対する総理の慎重な姿勢を反映しており、経済状況や国民の理解を得ることを重視していることが伺えます。\n"
     ]
    }
   ],
   "source": [
    "print(f\"元の質問: {question}\\n\")\n",
    "print_jp(answer.replace(\" \", \"\").replace(\"\\n\", \"\"))"
   ]
  },
  {
   "cell_type": "markdown",
   "metadata": {},
   "source": [
    "#### * Answer individually"
   ]
  },
  {
   "cell_type": "code",
   "execution_count": 175,
   "metadata": {},
   "outputs": [
    {
     "data": {
      "image/png": "[encoded data removed]",
      "text/plain": [
       "<PIL.PngImagePlugin.PngImageFile image mode=RGBA size=623x164>"
      ]
     },
     "execution_count": 175,
     "metadata": {},
     "output_type": "execute_result"
    }
   ],
   "source": [
    "im = show_image(\"./data/decomposition_2.png\")\n",
    "im"
   ]
  },
  {
   "cell_type": "code",
   "execution_count": 151,
   "metadata": {},
   "outputs": [
    {
     "name": "stderr",
     "output_type": "stream",
     "text": [
      "C:\\Users\\yoshi\\AppData\\Local\\Temp\\ipykernel_24752\\594749727.py:38: LangChainDeprecationWarning: The method `BaseRetriever.get_relevant_documents` was deprecated in langchain-core 0.1.46 and will be removed in 1.0. Use :meth:`~invoke` instead.\n",
      "  retrieved_docs = retriever.get_relevant_documents(sub_question)\n"
     ]
    }
   ],
   "source": [
    "### Answer each sub-question individually\n",
    "\n",
    "from langchain_core.prompts import ChatPromptTemplate\n",
    "from langchain_core.runnables import RunnablePassthrough, RunnableLambda\n",
    "from langchain_core.output_parsers import StrOutputParser\n",
    "from langchain_openai import ChatOpenAI\n",
    "\n",
    "# LLM\n",
    "llm = ChatOpenAI(model_name=\"gpt-4o-mini\", temperature=0)\n",
    "\n",
    "\n",
    "system_prompt = (\n",
    "    \"You are an economist.\"\n",
    "    \"Use the following pieces of retrieved context to answer the user's question. \"\n",
    "    \"If you don't know the answer, say that you don't know.  Make consice and consistent sentences.\"\n",
    "    \"Question and retrieved context are Japanease. So answer in Japanese.\"\n",
    "    \"\\n\\n\"\n",
    "    \"{context}\"\n",
    ")\n",
    "\n",
    "prompt_rag = ChatPromptTemplate.from_messages(\n",
    "    [\n",
    "        (\"system\", system_prompt),\n",
    "        (\"human\", \"{question}\"),\n",
    "    ]\n",
    ")\n",
    "\n",
    "def retrieve_and_rag(question, prompt_rag, sub_question_generator_chain):\n",
    "    \"\"\"RAG on each sub-question\"\"\"\n",
    "\n",
    "    # Use our decomposition function to make sub-questions\n",
    "    sub_questions = sub_question_generator_chain.invoke({\"question\": question})\n",
    "\n",
    "    # Initialize a list to hold RAG chain results\n",
    "    rag_results = []\n",
    "\n",
    "    # Run RAG on each sub-question\n",
    "    for sub_question in sub_questions:\n",
    "        \n",
    "        # Retrieve documents for each sub-question\n",
    "        retrieved_docs = retriever.get_relevant_documents(sub_question)\n",
    "\n",
    "        # Use retrieved documents and sub-question in RAG chain\n",
    "        answer = (prompt_rag | llm | StrOutputParser()).invoke({\"context\": retrieved_docs, \"question\": sub_question})\n",
    "\n",
    "        rag_results.append(answer)\n",
    "\n",
    "    return rag_results, sub_questions\n",
    "\n",
    "# Wrap the retrieval and RAG process in a RunnableLambda for integration into chain\n",
    "answers, questions = retrieve_and_rag(question, prompt_rag, generate_queries_decomposition)"
   ]
  },
  {
   "cell_type": "code",
   "execution_count": 159,
   "metadata": {},
   "outputs": [
    {
     "name": "stdout",
     "output_type": "stream",
     "text": [
      "Question: 1. 利上に対する総理の具体的な政策は何か？\n",
      "Answer: \n",
      "石破首相は、物価高の影響を受ける低所得者世帯への支援を強調し、賃上げと投資がけん引する成長型経済の実現を掲げています。\n",
      "また、最低賃金の全国平均1,500円を達成する時期の目標を2030年代半ばから2020年代に前倒しする方針を示しています。\n",
      "さらに、中堅・中小企業の賃上げ環境整備や国内投資促進も重要な政策として挙げています。\n",
      "\n",
      "Question: 2. 総理が利上に対して取り組む予定の施策は何か？\n",
      "Answer: \n",
      "石破首相は利上げに対して慎重な姿勢を示しており、年内の利上げ観測が後退しています。\n",
      "彼の発言は、金融政策の正常化を進める日本銀行に対して政治的な逆風があることを示唆しています。\n",
      "具体的な施策についてはまだ明確ではなく、選挙を意識した戦略が優先されているため、今後の動向を慎重に見極める必要があります。\n",
      "\n",
      "Question: 3. 利上に関する総理の過去の発言や行動はどのようなものがあるか？\n",
      "Answer: \n",
      "石破首相は就任直後に日本銀行の政策金利引き上げに慎重な発言をしており、脱アベノミクスの色合いがやや後退した印象があります。\n",
      "また、所信表明演説では岸田路線の継承を鮮明にする方向性を示しています。\n",
      "これらの発言は、目先の総選挙を意識した戦略の一環と考えられ、金融緩和の長期化に伴う弊害についての従来の見解からはやや修正された印象もありますが、方針の大きな変更については慎重に見極める必要があります。\n",
      "\n"
     ]
    }
   ],
   "source": [
    "# 生成された各質問に対する回答\n",
    "for q, a in zip(questions, answers):\n",
    "    print(f\"Question: {q}\\nAnswer: \")\n",
    "    print_jp(a)\n",
    "    print()"
   ]
  },
  {
   "cell_type": "code",
   "execution_count": 166,
   "metadata": {},
   "outputs": [],
   "source": [
    "### 上記3つのquestionとanswerをまとめてRAGに投入し、元の質問に対する回答を得る\n",
    "\n",
    "# context作成\n",
    "def format_qa_pairs(questions, answers):\n",
    "    \"\"\"Format Q and A pairs \"\"\"\n",
    "    formatted_string = \"\"\n",
    "    for i, (question, answer) in enumerate(zip(questions, answers), start=1):\n",
    "        formatted_string += f\"Question {i}: {question}\\nAnswer: {answer}\\n\\n\"\n",
    "\n",
    "    return formatted_string.strip()\n",
    "\n",
    "context = format_qa_pairs(questions, answers)\n",
    "\n",
    "\n",
    "# Prompt\n",
    "template = \"\"\"Here is a set of Q+A pairs in Japanease:\n",
    "\n",
    "{context}\n",
    "\n",
    "Use these to synthesize an consice and consistent answer to the question in Japanease: {qestion}\n",
    "\"\"\"\n",
    "\n",
    "prompt = ChatPromptTemplate.from_template(template)\n",
    "\n",
    "final_rag_chain = (\n",
    "    prompt\n",
    "    | llm\n",
    "    | StrOutputParser()\n",
    ")\n",
    "\n",
    "final_answer = final_rag_chain.invoke({\"context\": context, \"qestion\": question})"
   ]
  },
  {
   "cell_type": "code",
   "execution_count": 167,
   "metadata": {},
   "outputs": [
    {
     "name": "stdout",
     "output_type": "stream",
     "text": [
      "元の質問: 利上に対する総理の考えは？\n",
      "\n",
      "石破首相の利上に対する考えは、慎重な姿勢を示しており、年内の利上げ観測が後退していることからも明らかです。\n",
      "彼は、物価高の影響を受ける低所得者世帯への支援を重視し、賃上げと投資による成長型経済の実現を目指しています。\n",
      "また、最低賃金の引き上げや中小企業の賃上げ環境整備も重要な政策として挙げています。\n",
      "過去の発言からは、日本銀行の政策金利引き上げに対して慎重であり、岸田路線の継承を意識した戦略が見受けられます。\n",
      "全体として、利上げに対する具体的な施策はまだ明確ではなく、選挙を意識した動向が影響していると考えられます。\n"
     ]
    }
   ],
   "source": [
    "print(f\"元の質問: {question}\\n\")\n",
    "print_jp(final_answer.replace(\" \", \"\").replace(\"\\n\", \"\"))"
   ]
  },
  {
   "cell_type": "code",
   "execution_count": null,
   "metadata": {},
   "outputs": [],
   "source": []
  },
  {
   "cell_type": "markdown",
   "metadata": {},
   "source": [
    "### 1-3. Step-back\n",
    "* https://arxiv.org/pdf/2310.06117\n",
    "* https://www.youtube.com/watch?v=xn1jEjRyJ2U"
   ]
  },
  {
   "cell_type": "code",
   "execution_count": 177,
   "metadata": {},
   "outputs": [],
   "source": [
    "# Few Shot Examples\n",
    "from langchain_core.prompts import ChatPromptTemplate, FewShotChatMessagePromptTemplate\n",
    "\n",
    "examples = [\n",
    "    {\n",
    "        \"input\": \"警察は合法的に犯罪者を逮捕できるのか？\",\n",
    "        \"output\": \"警察は何ができるのか？\"\n",
    "\n",
    "    },\n",
    "    {\n",
    "        \"input\": \"佐藤さんの生まれはどこですか？\",\n",
    "        \"output\": \"佐藤さんのご出身はどちらでしょうか？\"\n",
    "    },\n",
    "]\n",
    "\n",
    "# We now transform these to example messages\n",
    "example_prompt = ChatPromptTemplate.from_messages(\n",
    "    [\n",
    "        (\"human\", \"{input}\"),\n",
    "        (\"ai\", \"{output}\"),\n",
    "    ]\n",
    ")\n",
    "\n",
    "few_shot_prompt = FewShotChatMessagePromptTemplate(\n",
    "    example_prompt=example_prompt,\n",
    "    examples=examples,\n",
    ")\n",
    "\n",
    "prompt = ChatPromptTemplate.from_messages(\n",
    "    [\n",
    "        (\n",
    "            \"system\",\n",
    "            \"\"\"You are an expert at world knowledge. Your task is to step back and paraphrase a question to a more generic step-back\n",
    "             question, which is easier to answer. Here are a few examples in Japanease:\"\"\",\n",
    "        ),\n",
    "        # Few shot examples\n",
    "        few_shot_prompt,\n",
    "        # New question\n",
    "        (\"user\", \"{question}\"),\n",
    "    ]\n",
    ")"
   ]
  },
  {
   "cell_type": "code",
   "execution_count": 184,
   "metadata": {},
   "outputs": [
    {
     "name": "stdout",
     "output_type": "stream",
     "text": [
      "元の質問文: 利上に対する総理の考えは？\n",
      "\n",
      "Step-backによる質問文: 総理大臣は経済政策についてどのような考えを持っていますか？\n"
     ]
    }
   ],
   "source": [
    "generate_queries_step_back = prompt | ChatOpenAI(temperature=0) | StrOutputParser()\n",
    "question = \"利上に対する総理の考えは？\"\n",
    "print(f\"元の質問文: {question}\\n\")\n",
    "\n",
    "print(f'Step-backによる質問文: {generate_queries_step_back.invoke({\"question\": question})}')\n"
   ]
  },
  {
   "cell_type": "code",
   "execution_count": 188,
   "metadata": {},
   "outputs": [
    {
     "name": "stdout",
     "output_type": "stream",
     "text": [
      "利上に対する総理の考えは？ \n",
      "\n",
      "石破茂首相は利上げに慎重な発言をしており、年内の利上げ観測が後退しています。\n",
      "政治的時間が短い上に国民からの理解を得るのも困難であるとして、12月会合での追加利上げの確度が低下した可能性があると述べています。\n",
      "また、石破首相は日本銀行の政策金利引き上げにも慎重な姿勢を示しており、脱アベノミクス色が後退した印象があるとされています。\n",
      "一方で、所信表明演説では岸田路線の継承を鮮明にする方向性を示しており、総選挙では脱アベノミクスではなく岸田路線継承を前面に掲げて戦う可能性が高いとされています。\n",
      "現時点での石破首相の発言は、目先の総選挙を意識したものであると考えられています。\n",
      "最優先課題は選挙に勝ち、政権基盤を固めることであるとされています。\n"
     ]
    }
   ],
   "source": [
    "# Response prompt\n",
    "response_prompt_template = \"\"\"You are an expert of financial policy. I am going to ask you a qeustion. \n",
    "Your respose should be comprehensive and not contradicted with the following context if they are relevant. \n",
    "Otherwise, ignore them if they are note relevant. Context and question are in Japanese, so answer in Japnease.\n",
    "\n",
    "# {normal_context}\n",
    "# {step_back_context}\n",
    "\n",
    "# Original Question: {question}\n",
    "# Answer:\"\"\"\n",
    "\n",
    "response_prompt = ChatPromptTemplate.from_template(response_prompt_template)\n",
    "\n",
    "chain = (\n",
    "    {\n",
    "        # Retrieve context using the normal question\n",
    "        \"normal_context\": RunnableLambda(lambda x: x[\"question\"]) | retriever,\n",
    "        # Retrieve context using the step-back question\n",
    "        \"step_back_context\": generate_queries_step_back | retriever,\n",
    "        # Pass on the question\n",
    "        \"question\": itemgetter(\"question\"),\n",
    "    }\n",
    "    | response_prompt\n",
    "    | ChatOpenAI(temperature=0)\n",
    "    | StrOutputParser()\n",
    ")\n",
    "\n",
    "print(question, '\\n')\n",
    "\n",
    "ans = chain.invoke({\"question\": question})\n",
    "print_jp(ans.replace(\" \", \"\").replace(\"\\n\", \"\"))"
   ]
  },
  {
   "cell_type": "code",
   "execution_count": null,
   "metadata": {},
   "outputs": [],
   "source": []
  },
  {
   "cell_type": "markdown",
   "metadata": {},
   "source": [
    "### 1-4. HyDE\n",
    "* https://arxiv.org/abs/2212.10496\n",
    "* https://www.youtube.com/watch?v=SaDzIVkYqyY"
   ]
  },
  {
   "cell_type": "code",
   "execution_count": 191,
   "metadata": {},
   "outputs": [
    {
     "name": "stdout",
     "output_type": "stream",
     "text": [
      "利上に対する総理の考えは？ \n",
      "\n",
      "空想の回答:\n",
      "総理の考えは、利上げについては慎重な姿勢を示しています。\n",
      "彼はインフレーションの抑制や経済の安定を重視しており、急激な利上げは景気を損なう可能性があると考えています。\n",
      "そのため、利上げは適切なタイミングとペースで行われるべきだという立場を取っています。\n",
      "また、総理は金融政策だけでなく、財政政策や産業政策なども総合的に考慮しながら経済を運営していく必要があると考えています。\n"
     ]
    }
   ],
   "source": [
    "from langchain.prompts import ChatPromptTemplate\n",
    "\n",
    "# HyDE document generation\n",
    "template = \"\"\"Please write a economic paper passage to answer the question in Japanese.\n",
    "Question: {question}\n",
    "Passage:\"\"\"\n",
    "\n",
    "prompt_hyde = ChatPromptTemplate.from_template(template)\n",
    "\n",
    "\n",
    "from langchain_core.output_parsers import StrOutputParser\n",
    "from langchain_openai import ChatOpenAI\n",
    "\n",
    "generate_docs_for_retrieval = (\n",
    "    prompt_hyde\n",
    "    | ChatOpenAI(temperature=0)\n",
    "    | StrOutputParser()\n",
    ")\n",
    "\n",
    "# Run\n",
    "print(question, '\\n')\n",
    "hypothetical_ans = generate_docs_for_retrieval.invoke({\"question\": question})\n",
    "print(\"空想の回答:\")\n",
    "print_jp(hypothetical_ans)"
   ]
  },
  {
   "cell_type": "code",
   "execution_count": 199,
   "metadata": {},
   "outputs": [],
   "source": [
    "# Retrieve\n",
    "retrieval_chain = generate_docs_for_retrieval | retriever\n",
    "retrieved_docs = retrieval_chain.invoke({\"question\": question})"
   ]
  },
  {
   "cell_type": "code",
   "execution_count": 201,
   "metadata": {},
   "outputs": [
    {
     "name": "stdout",
     "output_type": "stream",
     "text": [
      "-vector storeからの検索結果: -\n",
      "\n",
      "石破茂首相の利上げに慎重な発言を受けて、市場では日本銀行による年内の利上げ観測が後退している。金融政策の正常化を進める日銀に政治の逆風という悩ましい要素が加わった。　　石破首相は２日、植田和男日銀総裁と会談後、政策金利の引き上げに関して「政府としてあれこれ指図をする立場ではない」としながらも、「個人的には現在そのような環境にあるとは思っていない。追加の利上げをするような環境にあるとは考えていない」と記者団に語った。　　市場では石破氏が日銀の独立性を尊重するとみられていただけに、今回の発言を受けて円安が急速に進んでいる。衆院選をにらんだハト派的な発言との指摘もあるが、一段の円安は輸入物価の上昇を通じた消費者物価の押し上げ要因となり、政府の物価高対策と矛盾する。日銀は円安に伴う物価上振れリスクの高まりも理由に７月に利上げしており、今後の金融政策運営は難しい状況に直面する可能性がある。　　石破首相の発言の狙いについて、三菱ＵＦＪモルガン・スタンレー証券の六車治美チーフ債券ストラテジストは、27日投開票を表明している総選挙をにらんだものとみている\n",
      "\n",
      "石破茂首相の利上げに慎重な発言を受けて、市場では日本銀行による年内の利上げ観測が後退している。金融政策の正常化を進める日銀に政治の逆風という悩ましい要素が加わった。　　石破首相は２日、植田和男日銀総裁と会談後、政策金利の引き上げに関して「政府としてあれこれ指図をする立場ではない」としながらも、「個人的には現在そのような環境にあるとは思っていない。追加の利上げをするような環境にあるとは考えていない」と記者団に語った。　　市場では石破氏が日銀の独立性を尊重するとみられていただけに、今回の発言を受けて円安が急速に進んでいる。衆院選をにらんだハト派的な発言との指摘もあるが、一段の円安は輸入物価の上昇を通じた消費者物価の押し上げ要因となり、政府の物価高対策と矛盾する。日銀は円安に伴う物価上振れリスクの高まりも理由に７月に利上げしており、今後の金融政策運営は難しい状況に直面する可能性がある。　　石破首相の発言の狙いについて、三菱ＵＦＪモルガン・スタンレー証券の六車治美チーフ債券ストラテジストは、27日投開票を表明している総選挙をにらんだものとみている\n",
      "\n",
      "石破茂首相の利上げに慎重な発言を受けて、市場では日本銀行による年内の利上げ観測が後退している。金融政策の正常化を進める日銀に政治の逆風という悩ましい要素が加わった。　　石破首相は２日、植田和男日銀総裁と会談後、政策金利の引き上げに関して「政府としてあれこれ指図をする立場ではない」としながらも、「個人的には現在そのような環境にあるとは思っていない。追加の利上げをするような環境にあるとは考えていない」と記者団に語った。　　市場では石破氏が日銀の独立性を尊重するとみられていただけに、今回の発言を受けて円安が急速に進んでいる\n",
      "\n",
      "石破茂首相の利上げに慎重な発言を受けて、市場では日本銀行による年内の利上げ観測が後退している。金融政策の正常化を進める日銀に政治の逆風という悩ましい要素が加わった。　　石破首相は２日、植田和男日銀総裁と会談後、政策金利の引き上げに関して「政府としてあれこれ指図をする立場ではない」としながらも、「個人的には現在そのような環境にあるとは思っていない。追加の利上げをするような環境にあるとは考えていない」と記者団に語った。　　市場では石破氏が日銀の独立性を尊重するとみられていただけに、今回の発言を受けて円安が急速に進んでいる\n",
      "\n"
     ]
    }
   ],
   "source": [
    "print(\"-vector storeからの検索結果: -\\n\")\n",
    "doc_list = []\n",
    "for doc in retrieved_docs:\n",
    "    text = doc.page_content.replace(\" \", \"\").replace(\"\\n\", \"\")\n",
    "    doc_list.append(text)\n",
    "    print(doc.page_content.replace(\" \", \"\").replace(\"\\n\", \"\"))\n",
    "    print()"
   ]
  },
  {
   "cell_type": "code",
   "execution_count": 204,
   "metadata": {},
   "outputs": [],
   "source": [
    "# 重複削除\n",
    "retrieved_docs = list(set(doc_list))\n",
    "retrirved_strings = \"\\n\\n\".join(retrieved_docs)"
   ]
  },
  {
   "cell_type": "code",
   "execution_count": 206,
   "metadata": {},
   "outputs": [
    {
     "name": "stdout",
     "output_type": "stream",
     "text": [
      "利上に対する総理の考えは？ \n",
      "\n",
      "総理は、政府としては利上げについて指図する立場ではないとしながらも、現在は追加の利上げをするような環境にあるとは考えていないと述べています。\n",
      "また、日銀の独立性を尊重する立場から、円安が急速に進んでいることに対しても配慮しているとみられています。\n"
     ]
    }
   ],
   "source": [
    "# RAG\n",
    "template = \"\"\"Answer the following qustion based on this context in Japanease:\n",
    "\n",
    "{context}\n",
    "\n",
    "Question: {question}\"\"\"\n",
    "\n",
    "prompt = ChatPromptTemplate.from_template(template)\n",
    "\n",
    "final_rag_chain = (\n",
    "    prompt\n",
    "    | ChatOpenAI(temperature=0)\n",
    "    | StrOutputParser()\n",
    ")\n",
    "\n",
    "print(question, '\\n')\n",
    "final_ans = final_rag_chain.invoke({\"context\": retrirved_strings, \"question\": question})\n",
    "print_jp(final_ans)"
   ]
  },
  {
   "cell_type": "code",
   "execution_count": null,
   "metadata": {},
   "outputs": [],
   "source": []
  }
 ],
 "metadata": {
  "kernelspec": {
   "display_name": "rag",
   "language": "python",
   "name": "python3"
  },
  "language_info": {
   "codemirror_mode": {
    "name": "ipython",
    "version": 3
   },
   "file_extension": ".py",
   "mimetype": "text/x-python",
   "name": "python",
   "nbconvert_exporter": "python",
   "pygments_lexer": "ipython3",
   "version": "3.11.9"
  }
 },
 "nbformat": 4,
 "nbformat_minor": 2
}
